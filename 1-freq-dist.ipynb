{
 "cells": [
  {
   "cell_type": "markdown",
   "metadata": {},
   "source": [
    "## NLP - Study of Natural Language Processing, Computational Linguistics"
   ]
  },
  {
   "cell_type": "markdown",
   "metadata": {},
   "source": [
    "### Exploratory Data Analysis"
   ]
  },
  {
   "cell_type": "code",
   "execution_count": 116,
   "metadata": {
    "collapsed": false
   },
   "outputs": [
    {
     "name": "stdout",
     "output_type": "stream",
     "text": [
      "35488\n"
     ]
    }
   ],
   "source": [
    "import urllib2\n",
    "response = urllib2.urlopen('http://www.datafactz.com')\n",
    "html = response.read()\n",
    "print len(html)"
   ]
  },
  {
   "cell_type": "code",
   "execution_count": 117,
   "metadata": {
    "collapsed": false
   },
   "outputs": [],
   "source": [
    "#Clean HTML using BeautifulSoup\n",
    "from bs4 import BeautifulSoup\n",
    "soup = BeautifulSoup(html)\n",
    "\n",
    "# kill all script and style elements\n",
    "for script in soup([\"script\", \"style\"]):\n",
    "    script.extract()\n",
    "clean = soup.get_text()\n",
    "tokens = [token.lower() for token in clean.split()]"
   ]
  },
  {
   "cell_type": "code",
   "execution_count": 118,
   "metadata": {
    "collapsed": false
   },
   "outputs": [
    {
     "name": "stdout",
     "output_type": "stream",
     "text": [
      "[(u'development,', 1), (u'all', 1), (u'help', 1), (u'chain', 3), (u'roi', 1), (u'being', 1), (u'global', 1), (u'find', 2), (u'quarters', 1), (u'risks', 1)]\n"
     ]
    }
   ],
   "source": [
    "#Frequency distribution of tokens using NLTK\n",
    "import nltk\n",
    "freq_dist = nltk.FreqDist(tokens)\n",
    "print freq_dist.items()[:10]"
   ]
  },
  {
   "cell_type": "code",
   "execution_count": 119,
   "metadata": {
    "collapsed": false
   },
   "outputs": [],
   "source": [
    "#Plot the frqency distribution\n",
    "#freq_dist.plot(25, cumulative=False)"
   ]
  },
  {
   "cell_type": "code",
   "execution_count": 120,
   "metadata": {
    "collapsed": true
   },
   "outputs": [],
   "source": [
    "#Remove Stopwords like a, an, the, in etc.\n",
    "from nltk.corpus import stopwords\n",
    "#stopwords.words('english')\n",
    "clean_tokens=[tok for tok in tokens if len(tok.lower()) > 1 and (tok.lower() not in stopwords.words('english'))]"
   ]
  },
  {
   "cell_type": "code",
   "execution_count": 121,
   "metadata": {
    "collapsed": true
   },
   "outputs": [],
   "source": [
    "#Plot frequency distribution after removing Stopwords\n",
    "freq_dist = nltk.FreqDist(clean_tokens)\n",
    "freq_dist.plot(25, cumulative=False, title=\"Top 25 words - datafactz.com homepage\")"
   ]
  },
  {
   "cell_type": "code",
   "execution_count": 141,
   "metadata": {
    "collapsed": false
   },
   "outputs": [
    {
     "data": {
      "text/plain": [
       "[(u'analytics', 28),\n",
       " (u'data', 11),\n",
       " (u'datafactz', 8),\n",
       " (u'solutions', 7),\n",
       " (u'business', 7)]"
      ]
     },
     "execution_count": 141,
     "metadata": {},
     "output_type": "execute_result"
    }
   ],
   "source": [
    "sorted(freq_dist.items(), key=lambda x: x[1], reverse=True)[:5]"
   ]
  },
  {
   "cell_type": "code",
   "execution_count": 142,
   "metadata": {
    "collapsed": false
   },
   "outputs": [],
   "source": [
    "#export results to csv\n",
    "import csv\n",
    "with open(\"top25dfz.csv\", \"wb\") as fp:\n",
    "    writer = csv.writer(fp, quoting=csv.QUOTE_ALL)\n",
    "    writer.writerows(sorted(freq_dist.items(), key=lambda x: x[1], reverse=True)[:25])"
   ]
  }
 ],
 "metadata": {
  "kernelspec": {
   "display_name": "Python 2",
   "language": "python",
   "name": "python2"
  },
  "language_info": {
   "codemirror_mode": {
    "name": "ipython",
    "version": 2
   },
   "file_extension": ".py",
   "mimetype": "text/x-python",
   "name": "python",
   "nbconvert_exporter": "python",
   "pygments_lexer": "ipython2",
   "version": "2.7.11"
  }
 },
 "nbformat": 4,
 "nbformat_minor": 0
}
