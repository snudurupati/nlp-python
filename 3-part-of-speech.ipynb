{
 "cells": [
  {
   "cell_type": "markdown",
   "metadata": {},
   "source": [
    "# Part of Speech (POS) Tagging "
   ]
  },
  {
   "cell_type": "markdown",
   "metadata": {},
   "source": [
    "* * *"
   ]
  },
  {
   "cell_type": "code",
   "execution_count": 5,
   "metadata": {
    "collapsed": false
   },
   "outputs": [
    {
     "name": "stdout",
     "output_type": "stream",
     "text": [
      "[('I', 'PRP'), ('am', 'VBP'), ('playing', 'VBG'), ('tennis', 'NN'), (',', ','), ('while', 'IN'), ('it', 'PRP'), ('is', 'VBZ'), ('raining', 'VBG')]\n"
     ]
    }
   ],
   "source": [
    "from nltk import word_tokenize, pos_tag\n",
    "ln = \"I am playing tennis, while it is raining\"\n",
    "toks = word_tokenize(ln)\n",
    "tags = pos_tag(toks)\n",
    "print tags"
   ]
  },
  {
   "cell_type": "code",
   "execution_count": 6,
   "metadata": {
    "collapsed": false
   },
   "outputs": [
    {
     "data": {
      "text/plain": [
       "['playing', 'raining']"
      ]
     },
     "execution_count": 6,
     "metadata": {},
     "output_type": "execute_result"
    }
   ],
   "source": [
    "#get all verbs in a sentence\n",
    "[word for word, pos in tags if pos in ['VB','VBG','VBD','VBN']]"
   ]
  },
  {
   "cell_type": "markdown",
   "metadata": {},
   "source": [
    "# Stanford tagger\n",
    "### A python wrapper aroud pre-trained Stanford taggers\n",
    "### For the Stanford taggers to work on a Mac, follow the steps below:\n",
    "## Stanford Tagger, NER, Tokenizer and Parser.\n",
    "https://github.com/nltk/nltk/wiki/Installing-Third-Party-Software\n",
    "\n",
    "To install:\n",
    "* Make sure java is installed\n",
    "* Download & extract the stanford tokenizer package (contains the stanford tagger): http://nlp.stanford.edu/software/lex-parser.shtml\n",
    "* Download & extract the stanford NER package http://nlp.stanford.edu/software/CRF-NER.shtml\n",
    "* Download & extract the stanford POS tagger package http://nlp.stanford.edu/software/tagger.shtml\n",
    "* Download & extract the stanford Parser package: http://nlp.stanford.edu/software/lex-parser.shtml\n",
    "* Add the directories containing stanford-postagger.jar, stanford-ner.jar and stanford-parser.jar to the CLASSPATH environment variable\n",
    "\n",
    "**edit ~/.bash_profile and add the following lines**\n",
    "\n",
    "#add Stanford models to CLASSPATH for NLTK\n",
    "\n",
    "export CLASSPATH=\"/usr/local/share/nltk_data/stanford/stanford-ner-2015-12-09:/usr/local/share/nltk_data/stanford/stanford-parser-full-2015-12-09:/usr/local/share/nltk_data/stanford/stanford-postagger-2015-12-09\"\n",
    "\n",
    "#set STANFORD_MODELS for NLTK\n",
    "\n",
    "export STANFORD_MODELS=\"/usr/local/share/nltk_data/stanford/stanford-ner-2015-12-09/classifiers:/usr/local/share/nltk_data/stanford/stanford-postagger-2015-12-09/models\""
   ]
  },
  {
   "cell_type": "code",
   "execution_count": 7,
   "metadata": {
    "collapsed": false
   },
   "outputs": [],
   "source": [
    "import nltk.tag.stanford as st"
   ]
  },
  {
   "cell_type": "code",
   "execution_count": 10,
   "metadata": {
    "collapsed": false
   },
   "outputs": [
    {
     "data": {
      "text/plain": [
       "[(u'I', u'PRP'),\n",
       " (u'am', u'VBP'),\n",
       " (u'playing', u'VBG'),\n",
       " (u'tennis', u'NN'),\n",
       " (u',', u','),\n",
       " (u'while', u'IN'),\n",
       " (u'it', u'PRP'),\n",
       " (u'is', u'VBZ'),\n",
       " (u'raining', u'VBG')]"
      ]
     },
     "execution_count": 10,
     "metadata": {},
     "output_type": "execute_result"
    }
   ],
   "source": [
    "stan_tagger = st.StanfordPOSTagger('english-bidirectional-distsim.tagger')\n",
    "stan_tagger.tag(toks)"
   ]
  },
  {
   "cell_type": "code",
   "execution_count": null,
   "metadata": {
    "collapsed": true
   },
   "outputs": [],
   "source": []
  }
 ],
 "metadata": {
  "kernelspec": {
   "display_name": "Python 2",
   "language": "python",
   "name": "python2"
  },
  "language_info": {
   "codemirror_mode": {
    "name": "ipython",
    "version": 2
   },
   "file_extension": ".py",
   "mimetype": "text/x-python",
   "name": "python",
   "nbconvert_exporter": "python",
   "pygments_lexer": "ipython2",
   "version": "2.7.11"
  }
 },
 "nbformat": 4,
 "nbformat_minor": 0
}
